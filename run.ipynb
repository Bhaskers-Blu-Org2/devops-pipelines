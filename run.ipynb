{
 "cells": [
  {
   "cell_type": "markdown",
   "metadata": {},
   "source": [
    "# The Plan\n",
    "Everything we know about a specific plan. \n",
    "\n",
    "### Instructions\n",
    "1. Run all cells! (click on Menu > Cell > Run All Cells)\n",
    "1. View report at the bottom."
   ]
  },
  {
   "cell_type": "code",
   "execution_count": null,
   "metadata": {
    "inputHidden": false,
    "outputHidden": false,
    "tags": [
     "parameters"
    ]
   },
   "outputs": [],
   "source": [
    "planId = \"e379b1c6-ffe1-4d1f-9c85-841e15a87631\""
   ]
  },
  {
   "cell_type": "code",
   "execution_count": null,
   "metadata": {
    "inputHidden": false,
    "outputHidden": false
   },
   "outputs": [],
   "source": [
    "%%capture \n",
    "\n",
    "# install packages, setup workspace root\n",
    "!pip install azure-kusto-notebooks matplotlib\n",
    "import os\n",
    "import sys\n",
    "import datetime\n",
    "import pandas as pd\n",
    "import numpy as np\n",
    "import matplotlib\n",
    "import matplotlib.pyplot as plt\n",
    "import concurrent.futures\n",
    "from azure.kusto.notebooks import utils as akn\n",
    "\n",
    "# cwd should be workspace root\n",
    "if os.path.basename(os.getcwd()) == 'devops-pipelines':\n",
    "    os.chdir(os.pardir)"
   ]
  },
  {
   "cell_type": "code",
   "execution_count": null,
   "metadata": {
    "inputHidden": false,
    "outputHidden": false
   },
   "outputs": [],
   "source": [
    "# authenticate kusto client\n",
    "# you will need to copy the token into a browser window for AAD auth. \n",
    "client = akn.get_client('https://vso.kusto.windows.net')"
   ]
  },
  {
   "cell_type": "code",
   "execution_count": null,
   "metadata": {
    "collapsed": false,
    "inputHidden": false,
    "outputHidden": false
   },
   "outputs": [],
   "source": [
    "# DEBUG: reload akn module\n",
    "# import importlib\n",
    "# importlib.reload(akn)"
   ]
  },
  {
   "cell_type": "code",
   "execution_count": null,
   "metadata": {
    "collapsed": false,
    "inputHidden": false,
    "outputHidden": false
   },
   "outputs": [],
   "source": [
    "# collect basic plan info\n",
    "plan_info = akn.Query(\n",
    "    client, 'VSO', \n",
    "    path=os.path.join('devops-pipelines', 'queries', 'run', 'PlanInfo.csl'), \n",
    "    params={'OrchestrationId': akn.quote(planId)})\n",
    "\n",
    "# collect full plan history\n",
    "what_happened = akn.Query(client, 'VSO',\n",
    "    path=os.path.join('devops-pipelines', 'queries', 'run', 'WhatHappened.csl'),\n",
    "    params={'OrchestrationId': akn.quote(planId)})\n",
    "\n",
    "# fetch all data in parallel\n",
    "akn.run((plan_info, what_happened))"
   ]
  },
  {
   "cell_type": "code",
   "execution_count": null,
   "metadata": {
    "collapsed": false,
    "inputHidden": false,
    "outputHidden": false
   },
   "outputs": [],
   "source": [
    "# draw basic info\n",
    "\n",
    "# compute relative time stamps\n",
    "history = what_happened.dataframe\n",
    "t0 = history['PreciseTimeStamp'].iloc[0]\n",
    "history['Time'] = history.apply(lambda row: row['PreciseTimeStamp'] - t0, axis=1)\n",
    "history.OrchestrationId = history.apply(lambda row: row.OrchestrationId[37:], axis=1)\n",
    "\n",
    "# record critical times\n",
    "def find_time(message):\n",
    "    r = history[history.Message.str.startswith(message)]\n",
    "    if len(r.index) > 0:\n",
    "        return r['PreciseTimeStamp'].iloc[0]\n",
    "\n",
    "create_time = find_time('Created plan')\n",
    "start_time = find_time('Started plan')\n",
    "end_time = find_time('Completed orchestration with result')\n",
    "total_duration = end_time-start_time\n",
    "d = akn.pandas_row_to_dictionary(plan_info.dataframe)\n",
    "d['create time'] = create_time\n",
    "d['start time'] = start_time\n",
    "d['end time'] = end_time\n",
    "d['total duration'] = total_duration\n",
    "\n",
    "r = akn.Report()\n",
    "r.write('## Plan was created by \"', d['Name'], '\" at ', create_time, ' and ran for ', total_duration, '.')\n",
    "r.write(akn.to_md_table(d))\n",
    "\n",
    "from IPython.display import Markdown\n",
    "Markdown(r.content)"
   ]
  },
  {
   "cell_type": "code",
   "execution_count": null,
   "metadata": {
    "collapsed": false,
    "inputHidden": false,
    "outputHidden": false
   },
   "outputs": [],
   "source": [
    "# draw full history\n",
    "columns_to_ignore = ('source_', 'PreciseTimeStamp')\n",
    "columns = ['Time'] + [c for c in history.columns if c not in columns_to_ignore and c != 'Time']\n",
    "pd.set_option('max_colwidth', 200)\n",
    "\n",
    "from IPython.display import HTML\n",
    "HTML(history[columns].to_html(index=False))"
   ]
  },
  {
   "cell_type": "code",
   "execution_count": null,
   "metadata": {
    "collapsed": false,
    "inputHidden": false,
    "outputHidden": false
   },
   "outputs": [],
   "source": []
  },
  {
   "cell_type": "code",
   "execution_count": null,
   "metadata": {
    "collapsed": false,
    "inputHidden": false,
    "outputHidden": false
   },
   "outputs": [],
   "source": []
  }
 ],
 "metadata": {
  "kernelspec": {
   "display_name": "Python 3",
   "name": "python3"
  },
  "language_info": {
   "codemirror_mode": {
    "name": "ipython",
    "version": 3
   },
   "file_extension": ".py",
   "mimetype": "text/x-python",
   "name": "python",
   "nbconvert_exporter": "python",
   "pygments_lexer": "ipython3",
   "version": "3.7.3"
  },
  "nteract": {
   "version": "nteract-on-jupyter@2.1.3"
  }
 },
 "nbformat": 4,
 "nbformat_minor": 2
}
