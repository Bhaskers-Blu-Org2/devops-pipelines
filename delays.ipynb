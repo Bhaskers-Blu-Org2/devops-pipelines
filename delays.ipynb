{
  "cells": [
    {
      "cell_type": "markdown",
      "source": [
        "## Orchestration delays investigation\n",
        "This notebook makes various kusto queries and produces a report.\n"
      ],
      "metadata": {}
    },
    {
      "cell_type": "code",
      "source": [
        "# These are just defaults will be overwritten if you use https://github.com/yaananth/nimport\n",
        "su=\"tfs-cus-1\"\n",
        "start=\"2019-07-20T16:00:00.0000000Z\"\n",
        "end=\"2019-07-20T16:33:36.0000000Z\"\n",
        "url=\"https://notebooksv2.azure.com/yaananth/projects/06OasuNRs6rK/delays.ipynb\"\n",
        "baseUrl=\"https://notebooksv2.azure.com/yaananth/projects/06OasuNRs6rK\"\n",
        "service=\"tfs\"\n",
        "hub=\"Build\""
      ],
      "outputs": [],
      "execution_count": null,
      "metadata": {
        "collapsed": false,
        "inputHidden": false,
        "outputHidden": false,
        "tags": [
          "parameters"
        ]
      }
    },
    {
      "cell_type": "code",
      "source": [
        "# Import the things we use\n",
        "\n",
        "# Note you can also use kql https://docs.microsoft.com/en-us/azure/data-explorer/kqlmagic\n",
        "# %kql is single line magic\n",
        "# %%kql is cell magic\n",
        "\n",
        "# https://nbviewer.jupyter.org/github/ipython/ipython/blob/4.0.x/examples/IPython%20Kernel/Rich%20Output.ipynb#HTML\n",
        "# https://ipython.readthedocs.io/en/stable/inte/magics.html\n",
        "from IPython.display import display, HTML, Markdown, Javascript, clear_output\n",
        "\n",
        "# http://pandas-docs.github.io/pandas-docs-travis/user_guide/reshaping.html\n",
        "import pandas as pd\n",
        "from pandas import Series, DataFrame\n",
        "from datetime import datetime, timedelta, timezone\n",
        "from urllib.parse import urlencode, quote_plus\n",
        "from requests.utils import requote_uri\n",
        "import time\n",
        "import numpy as np\n",
        "from matplotlib import pyplot as plt\n",
        "from nimport.utils import tokenize\n",
        "import json\n",
        "import os\n",
        "import calendar as cal"
      ],
      "outputs": [],
      "execution_count": null,
      "metadata": {
        "collapsed": false,
        "inputHidden": false,
        "outputHidden": false
      }
    },
    {
      "cell_type": "code",
      "source": [
        "params = {\n",
        "    \"su\": su,\n",
        "    \"start\": start,\n",
        "    \"end\": end,\n",
        "    \"url\": url,\n",
        "    \"baseUrl\": baseUrl,\n",
        "    \"service\": service,\n",
        "    \"hub\": hub\n",
        "}\n",
        "root = 'devops-pipelines' if os.path.basename(os.getcwd()) != 'devops-pipelines' else ''\n",
        "    "
      ],
      "outputs": [],
      "execution_count": null,
      "metadata": {
        "collapsed": false,
        "inputHidden": false,
        "outputHidden": false
      }
    },
    {
      "cell_type": "code",
      "source": [
        "%load_ext Kqlmagic"
      ],
      "outputs": [],
      "execution_count": null,
      "metadata": {
        "collapsed": false,
        "inputHidden": false,
        "outputHidden": false
      }
    },
    {
      "cell_type": "code",
      "source": [
        "# kusto/python utilities\n",
        "def getTime(timestamp, d):\n",
        "    return int((cal.timegm(getDateTime(timestamp).timetuple()) + (d * 60)) * 1000);\n",
        "                \n",
        "def getDateTime(timestamp):\n",
        "    s = timestamp[:23] + 'Z' # only allow 5 decimals of precision\n",
        "    for f in (\"%Y-%m-%d %H:%M:%S.%fZ\", \"%Y-%m-%dT%H:%M:%S.%fZ\"):\n",
        "        try:\n",
        "            return datetime.strptime(s, f);\n",
        "        except:\n",
        "            pass\n",
        "           \n",
        "def getKustoQuery(csl_filename, params):\n",
        "\n",
        "    return tokenize(os.path.join(root, 'queries', csl_filename), params)\n",
        "                \n",
        "states = {\n",
        "    \"ja\": \"ja\",\n",
        "    \"healthagent\": \"healthagent\"\n",
        "};\n",
        "\n",
        "state = \"\";"
      ],
      "outputs": [],
      "execution_count": null,
      "metadata": {
        "collapsed": false,
        "inputHidden": false,
        "outputHidden": false
      }
    },
    {
      "cell_type": "code",
      "source": [
        "# Active incidents?\n",
        "# ActiveIncidents.csl\n",
        "%kql AzureDataExplorer://tenant=\"Microsoft.com\";code;cluster='Icmcluster';database='IcMDataWarehouse' \n",
        "q_activeIncidents = getKustoQuery(\"ActiveIncidents.csl\", params)\n",
        "q_activeIncidentsResult = %kql -query q_activeIncidents\n",
        "q_activeIncidentsResultDf = q_activeIncidentsResult.to_dataframe()"
      ],
      "outputs": [],
      "execution_count": null,
      "metadata": {
        "collapsed": false,
        "outputHidden": false,
        "inputHidden": false
      }
    },
    {
      "cell_type": "code",
      "source": [
        "# Note: KQL has a bug where it copies the wrong code (the previous cluster's auth code instead of current) when we try to auth to multiple clusters\n",
        "# Copy the code manually instead, if you already closed the dialog, copy code and go to https://microsoft.com/devicelogin\n",
        "%kql AzureDataExplorer://tenant=\"Microsoft.com\";code;cluster='VSO';database='VSO'"
      ],
      "outputs": [],
      "execution_count": null,
      "metadata": {
        "collapsed": false,
        "inputHidden": false,
        "outputHidden": false
      }
    },
    {
      "cell_type": "code",
      "source": [
        "# LocationName.csl\n",
        "q_loc = getKustoQuery(\"LocationName.csl\", params)\n",
        "locationNameResult = %kql -query q_loc\n",
        "locationName = locationNameResult[0]['Tenant']\n",
        "params[\"locationName\"] = locationName"
      ],
      "outputs": [],
      "execution_count": null,
      "metadata": {
        "collapsed": false,
        "outputHidden": false,
        "inputHidden": false
      }
    },
    {
      "cell_type": "code",
      "source": [
        "# AffectedAccounts.csl\n",
        "q_affectedAccounts = getKustoQuery(\"delays/AffectedAccounts.csl\", params)\n",
        "q_affectedAccountsResult = %kql -query q_affectedAccounts\n",
        "q_affectedAccountsResultDf = q_affectedAccountsResult.to_dataframe()"
      ],
      "outputs": [],
      "execution_count": null,
      "metadata": {
        "collapsed": false,
        "inputHidden": false,
        "outputHidden": false
      }
    },
    {
      "cell_type": "code",
      "source": [
        "# Abusers.csl\n",
        "q_abusers = getKustoQuery(\"delays/Abusers.csl\", params)\n",
        "Abusers = %kql -query q_abusers\n",
        "abusersDf = Abusers.to_dataframe();\n",
        "finalabusersList = np.intersect1d(q_affectedAccountsResultDf[\"HostId\"].values, abusersDf[\"HostId\"].values);"
      ],
      "outputs": [],
      "execution_count": null,
      "metadata": {
        "collapsed": false,
        "inputHidden": false,
        "outputHidden": false
      }
    },
    {
      "cell_type": "code",
      "source": [
        "# AffectedAccounts.csl\n",
        "q_affAccounts = getKustoQuery(\"delays/AffectedAccounts.csl\", params)\n",
        "q_affAccounts_r = %kql -query q_affAccounts\n",
        "q_affAccounts_df = q_affAccounts_r.to_dataframe();"
      ],
      "outputs": [],
      "execution_count": null,
      "metadata": {
        "collapsed": false,
        "inputHidden": false,
        "outputHidden": false
      }
    },
    {
      "cell_type": "code",
      "source": [
        "# DelayedAccountsAreAbusers.csl\n",
        "q_delayedAccountsAreAbusers = getKustoQuery(\"delays/DelayedAccountsAreAbusers.csl\", params)\n",
        "q_delayedAccountsAreAbusers_r = %kql -query q_delayedAccountsAreAbusers\n",
        "q_delayedAccountsAreAbusers_df = q_delayedAccountsAreAbusers_r.to_dataframe()"
      ],
      "outputs": [],
      "execution_count": null,
      "metadata": {
        "collapsed": false,
        "inputHidden": false,
        "outputHidden": false
      }
    },
    {
      "cell_type": "code",
      "source": [
        "# WhatChanged.csl\n",
        "q_whatChanged = getKustoQuery(\"WhatChanged.csl\", params)\n",
        "q_whatChanged_r = %kql -query q_whatChanged\n",
        "q_whatChanged_df = q_whatChanged_r.to_dataframe();"
      ],
      "outputs": [],
      "execution_count": null,
      "metadata": {
        "collapsed": false,
        "inputHidden": false,
        "outputHidden": false
      }
    },
    {
      "cell_type": "code",
      "source": [
        "# HealthAgentActions.csl\n",
        "q_haActions = getKustoQuery(\"HealthAgentActions.csl\", params)\n",
        "q_haActions_r = %kql -query q_haActions\n",
        "q_haActions_df = q_haActions_r.to_dataframe();"
      ],
      "outputs": [],
      "execution_count": null,
      "metadata": {
        "collapsed": false,
        "inputHidden": false,
        "outputHidden": false
      }
    },
    {
      "cell_type": "code",
      "source": [
        "# VIPSwap.csl\n",
        "q_vipSwap = getKustoQuery(\"VIPSwap.csl\", params)\n",
        "vipSwapResult =  %kql -query q_vipSwap\n",
        "vipSwapResultDf = vipSwapResult.to_dataframe()"
      ],
      "outputs": [],
      "execution_count": null,
      "metadata": {
        "collapsed": false,
        "inputHidden": false,
        "outputHidden": false
      }
    },
    {
      "cell_type": "code",
      "source": [
        "# WhatDelayed.csl\n",
        "q_whatDelayed = getKustoQuery(\"delays/WhatDelayed.csl\", params)\n",
        "q_whatDelayedResult = %kql -query q_whatDelayed\n",
        "q_whatDelayedResultDf = q_whatDelayedResult.to_dataframe()"
      ],
      "outputs": [],
      "execution_count": null,
      "metadata": {
        "collapsed": false,
        "inputHidden": false,
        "outputHidden": false
      }
    },
    {
      "cell_type": "code",
      "source": [
        "# Load.csl\n",
        "q_load = getKustoQuery(\"delays/Load.csl\", params)\n",
        "q_loadResult = %kql -query q_load\n",
        "q_loadResultDf = q_loadResult.to_dataframe()"
      ],
      "outputs": [],
      "execution_count": null,
      "metadata": {
        "collapsed": false,
        "inputHidden": false,
        "outputHidden": false
      }
    },
    {
      "cell_type": "code",
      "source": [
        "# https://plot.ly/python/graphing-multiple-chart-types/\n",
        "\n",
        "# https://plot.ly/python/line-and-scatter/\n",
        "import plotly.graph_objs as go\n",
        "import plotly\n",
        "plotly.offline.init_notebook_mode(connected=True)"
      ],
      "outputs": [],
      "execution_count": null,
      "metadata": {
        "collapsed": false,
        "inputHidden": false,
        "outputHidden": false
      }
    },
    {
      "cell_type": "code",
      "source": [
        "# visualize delays\n",
        "delays = go.Scatter(\n",
        "    x=q_affAccounts_df[\"PreciseTimeStamp\"],\n",
        "    y=q_affAccounts_df[\"MessageDelayInSeconds\"],\n",
        "    mode = 'lines',\n",
        "    name = 'Delays in seconds',\n",
        "    text= q_affAccounts_df['Name']\n",
        ")\n",
        "\n",
        "changed = go.Scatter(\n",
        "    x=q_whatChanged_df[\"TIMESTAMP\"],\n",
        "    y=np.repeat(50, len(q_whatChanged_df[\"TIMESTAMP\"].values)),\n",
        "    mode = 'lines+markers',\n",
        "    name = 'What Changed',\n",
        "    text = q_whatChanged_df[\"Name\"],\n",
        "    marker=dict(\n",
        "        size=32,\n",
        "        color = np.random.randn(500),\n",
        "        colorscale='Viridis'\n",
        "    )\n",
        ")\n",
        "\n",
        "mitigations = go.Scatter(\n",
        "    x=q_haActions_df[\"PreciseTimeStamp\"],\n",
        "    y=np.repeat(50, len(q_haActions_df[\"PreciseTimeStamp\"].values)),\n",
        "    mode = 'markers',\n",
        "    name = 'Mitigations',\n",
        "    text = q_haActions_df[[\"MitigationName\", \"RoleInstance\"]].apply(lambda x: ''.join(x), axis=1),\n",
        "    marker = dict(\n",
        "        size = 10,\n",
        "        color = 'rgba(152, 0, 0, .8)',\n",
        "        line = dict(\n",
        "            width = 2,\n",
        "            color = 'rgb(0, 0, 0)'\n",
        "        )\n",
        "    )\n",
        ")\n",
        "\n",
        "data = [delays, changed, mitigations]\n",
        "plotly.offline.iplot(data)"
      ],
      "outputs": [],
      "execution_count": null,
      "metadata": {
        "collapsed": false,
        "inputHidden": false,
        "outputHidden": false
      }
    },
    {
      "cell_type": "code",
      "source": [
        "print('=' * 50)\n",
        "print('Report!')\n",
        "print('=' * 50, '\\n\\n')\n",
        "\n",
        "jarvisParams = {'su': su, 'start': getTime(start, -10), 'end': getTime(end, 10), 'service': service }\n",
        "\n",
        "# jarvis\n",
        "jarvisLink = \"\"\"https://jarvis-west.dc.ad.msft.net/dashboard/VSO-ServiceInsights/DevOpsReports/TFS DevOpsReports\"\"\" \\\n",
        "    \"\"\"?overrides=[{\"query\":\"//*[id='Service']\",\"key\":\"value\",\"replacement\":\"%(service)s\"},\"\"\" \\\n",
        "    \"\"\"{\"query\":\"//*[id='RoleInstance']\",\"key\":\"value\",\"replacement\":\"\"},\"\"\" \\\n",
        "    \"\"\"{\"query\":\"//*[id='ScaleUnit']\",\"key\":\"value\",\"replacement\":\"%(su)s\"}]\"\"\" \\\n",
        "    \"\"\"&globalStartTime=%(start)s&globalEndTime=%(end)s&pinGlobalTimeRange=true\"\"\" % jarvisParams;\n",
        "print('Jarvis dashboard link:\\n', requote_uri(jarvisLink), '\\n')\n",
        "\n",
        "# what changed? analysis\n",
        "print()\n",
        "print('What changed? =============================')\n",
        "if(len(q_whatChanged_df.index) == 0):\n",
        "    print(\"No relevant changes found...\")\n",
        "else:\n",
        "    up_prefix = \"\";\n",
        "    mit_prefix = \"\";\n",
        "    text = \"\";\n",
        "    for index, row in q_whatChanged_df.iterrows():\n",
        "        if(row.title.lower().find('upgrade') != -1):\n",
        "            if not up_prefix:\n",
        "                up_prefix += \"Looks like, there's upgrade in progress...\\n\\n\";\n",
        "            text += \"\"\"%s %s %s \\n\"\"\" % (row.TIMESTAMP, row.title, row.buildNumber);\n",
        "        if(row.title.lower().find('mitigation') != -1):\n",
        "            if not mit_prefix:\n",
        "                mit_prefix += \"Looks like, there are some mitigations by health agent...\\n\\n\";\n",
        "                state += states[\"healthagent\"];\n",
        "            text += \"\"\"%s %s %s\"\"\" % (row.TIMESTAMP, row.title, row.buildNumber);\n",
        "            \n",
        "    if text:\n",
        "        print(up_prefix + mit_prefix + text)\n",
        "    else:\n",
        "        print(q_whatChanged_df)\n",
        "        \n",
        "# active incidents?\n",
        "print()\n",
        "print('Active incidents? =============================')\n",
        "otherIncidentsCount = 0;\n",
        "for index, row in q_activeIncidentsResultDf.iterrows():\n",
        "    if(row.Title.find(\"Kalypso: Build Orchestrator Delays ICM\") == -1):\n",
        "        otherIncidentsCount+=1;\n",
        "        \n",
        "if(otherIncidentsCount > 0):\n",
        "    print(\"We found some incidents during the time period, check if they are related...\")\n",
        "    # styling\n",
        "    def make_clickable(url, text):\n",
        "        return '{0}'.format(url)\n",
        "\n",
        "    newDf = q_activeIncidentsResultDf.assign(URL=[*map(lambda x: make_clickable(\"\"\"https://icm.ad.msft.net/imp/v3/incidents/details/%s/home\"\"\" % (x), \"ICMLink\"), q_activeIncidentsResultDf.IncidentId)])\n",
        "    print(\"ICM link to copy - \" + \"https://icm.ad.msft.net/imp/v3/incidents/details/INCIDENTID/home\")\n",
        "    print(newDf[['IncidentId','Severity','Title']])\n",
        "else:\n",
        "    print(\"No active incidents that could be related are found...\")\n",
        "\n",
        "print()\n",
        "print('Queue Load =============================')\n",
        "ar = q_loadResultDf[q_loadResultDf[\"Name\"] == \"DTPlanQueued\"].values[:, 2]\n",
        "queuedGreatherThan100 = np.where(ar > 100)\n",
        "if len(queuedGreatherThan100[0]) > 0:\n",
        "    print(\"\"\"More than 100 requests are queued in 1 minute (Actual: %s)...could be a load issue\"\"\" % (np.amax(ar)))\n",
        "else: \n",
        "    print('...everything looks good?')\n",
        "# ja load\n",
        "print()\n",
        "print('JA Load =============================')\n",
        "q_whatDelayedResultPendingJobsDf = q_whatDelayedResultDf[q_whatDelayedResultDf.Pivot == \"\\JobService(_Total)\\Total Pending Jobs\"]\n",
        "pendingGreaterThan10Result = np.where(q_whatDelayedResultPendingJobsDf.avg_CounterValue.values > 10)\n",
        "if len(pendingGreaterThan10Result[0]) > 0:\n",
        "    print(\"We are seeing high pending jobs from job agent (highest being %s total pending jobs in 1 min), could be an issue with job agents...\" % (np.max(q_whatDelayedResultPendingJobsDf.avg_CounterValue.values)))    \n",
        "    # update state\n",
        "    state += states[\"ja\"]\n",
        "    \n",
        "    open_nb(os.path.join(root, 'ja.ipynb'), params, redirect=False)\n",
        "    jaUrl = baseUrl + \"/devops-pipelines/ja.ipynb\"\n",
        "    print('Investigate job agent related issues by going here:', requote_uri(jaUrl), '\\n')\n",
        "\n",
        "    jaJarvisLink = \"\"\"https://jarvis-west.dc.ad.msft.net/dashboard/VSO-ServiceInsights/PlatformViews/Compute-JA\"\"\" \\\n",
        "    \"\"\"?overrides=[{\"query\":\"//*[id='Service']\",\"key\":\"value\",\"replacement\":\"%(service)s\"},\"\"\" \\\n",
        "    \"\"\"{\"query\":\"//*[id='RoleInstance']\",\"key\":\"value\",\"replacement\":\"\"},\"\"\" \\\n",
        "    \"\"\"{\"query\":\"//*[id='ScaleUnit']\",\"key\":\"value\",\"replacement\":\"%(su)s\"}]\"\"\" \\\n",
        "    \"\"\"&globalStartTime=%(start)s&globalEndTime=%(end)s&pinGlobalTimeRange=true\"\"\" % jarvisParams;\n",
        "    print('Jarvis dashboard link for job agents:\\n', requote_uri(jaJarvisLink), '\\n')\n",
        "else:\n",
        "    print('...everything looks good?')\n",
        "    \n",
        "# abuse detection?\n",
        "print()\n",
        "print('What users are impacted? =============================')\n",
        "if len(finalabusersList) > 0:\n",
        "    print('Found abusers - !!')\n",
        "print(q_delayedAccountsAreAbusers_df)\n",
        "        \n",
        "#\n",
        "# vip swap\n",
        "print()\n",
        "print('Vip Swap? =============================')\n",
        "if len(vipSwapResultDf.index) > 0:\n",
        "    viptime = vipSwapResultDf[\"TIMESTAMP\"][0]\n",
        "    starttime = getDateTime(start)\n",
        "    delta = starttime.replace(tzinfo=None) - viptime.replace(tzinfo=None)\n",
        "    if delta.total_seconds() > 0:\n",
        "        print(\"\"\"VIP SWAP happened: %s days %s hours %s minutes ago (%s) (issue start: %s)\"\"\" % (delta.days, delta.seconds//3600, (delta.seconds//60) % 60, viptime, start))\n",
        "    else:\n",
        "        print('...no swaps recorded in the given time range')\n",
        "else:\n",
        "    print('...no swaps recorded in the given time range')\n",
        "\n",
        "# more analysis?   \n",
        "print()\n",
        "print('More analysis =============================')\n",
        "\n",
        "url = baseUrl + \"/devops-pipelines/sla.ipynb\"\n",
        "SLAParams = {\n",
        "\"triggerTime\": params[\"start\"],\n",
        "\"scaleUnit\": params[\"su\"],\n",
        "\"service\": params[\"service\"]\n",
        "}\n",
        "open_nb(os.path.join(root, 'sla.ipynb'), SLAParams, redirect=False)\n",
        "print('Investigate SLA by going here:', requote_uri(url), '\\n') \n",
        "\n",
        "url = baseUrl + \"/devops-pipelines/impact.ipynb\"\n",
        "open_nb(os.path.join(root, 'impact.ipynb'), params, redirect=False)\n",
        "print('Investigate any existing customer impact by going here:', requote_uri(url), '\\n') "
      ],
      "outputs": [],
      "execution_count": null,
      "metadata": {
        "collapsed": false,
        "inputHidden": false,
        "outputHidden": false
      }
    }
  ],
  "metadata": {
    "kernel_info": {
      "name": "python3"
    },
    "kernelspec": {
      "name": "python3",
      "language": "python",
      "display_name": "Python 3"
    },
    "language_info": {
      "name": "python",
      "version": "3.7.4",
      "mimetype": "text/x-python",
      "codemirror_mode": {
        "name": "ipython",
        "version": 3
      },
      "pygments_lexer": "ipython3",
      "nbconvert_exporter": "python",
      "file_extension": ".py"
    },
    "nteract": {
      "version": "0.14.4"
    }
  },
  "nbformat": 4,
  "nbformat_minor": 0
}