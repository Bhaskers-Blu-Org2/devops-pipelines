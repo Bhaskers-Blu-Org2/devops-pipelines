{
  "cells": [
    {
      "cell_type": "markdown",
      "source": [
        "# Jobagent Investigation\n",
        "1. Run all cells.\n",
        "1. View report at the bottom."
      ],
      "metadata": {}
    },
    {
      "cell_type": "code",
      "source": [
        "su = \"tfs-cus-1\"\n",
        "start = \"2019-07-20T16:00:00.0000000Z\"\n",
        "end = \"2019-07-20T16:33:36.0000000Z\"\n",
        "url = \"https://notebooksv2.azure.com/yaananth/projects/06OasuNRs6rK/delays.ipynb\"\n",
        "baseUrl = \"https://notebooksv2.azure.com/yaananth/projects/06OasuNRs6rK\"\n",
        "service = \"tfs\"\n",
        "hub = \"Build\"\n",
        "locationName = \"tfsprodcus1\""
      ],
      "outputs": [],
      "execution_count": null,
      "metadata": {
        "collapsed": false,
        "inputHidden": false,
        "outputHidden": false,
        "tags": [
          "parameters"
        ]
      }
    },
    {
      "cell_type": "code",
      "source": [
        "# This isn't needed if you are bootstraping\n",
        "#!pip install Kqlmagic --no-cache-dir --upgrade\n",
        "#!pip install nimport --no-cache-dir --upgrade\n",
        "#!pip install azure-kusto-notebooks --no-cache-dir --upgrade"
      ],
      "outputs": [],
      "execution_count": null,
      "metadata": {
        "collapsed": false,
        "inputHidden": false,
        "outputHidden": false
      }
    },
    {
      "cell_type": "code",
      "source": [
        "# Import the things we use\n",
        "\n",
        "# Note you can also use kql https://docs.microsoft.com/en-us/azure/data-explorer/kqlmagic\n",
        "# %kql is single line magic\n",
        "# %%kql is cell magic\n",
        "\n",
        "# https://nbviewer.jupyter.org/github/ipython/ipython/blob/4.0.x/examples/IPython%20Kernel/Rich%20Output.ipynb#HTML\n",
        "# https://ipython.readthedocs.io/en/stable/inte/magics.html\n",
        "from IPython.display import display, HTML, Markdown, Javascript, clear_output\n",
        "\n",
        "# http://pandas-docs.github.io/pandas-docs-travis/user_guide/reshaping.html\n",
        "import pandas as pd\n",
        "from pandas import Series, DataFrame\n",
        "from datetime import datetime, timedelta, timezone\n",
        "from urllib.parse import urlencode, quote_plus\n",
        "from requests.utils import requote_uri\n",
        "import time\n",
        "import numpy as np\n",
        "from matplotlib import pyplot as plt\n",
        "from nimport.utils import tokenize, open_nb\n",
        "import json\n",
        "import os\n",
        "import calendar as cal\n",
        "import concurrent.futures\n",
        "from azure.kusto.notebooks import utils as akn"
      ],
      "outputs": [],
      "execution_count": null,
      "metadata": {
        "collapsed": false,
        "inputHidden": false,
        "outputHidden": false
      }
    },
    {
      "cell_type": "code",
      "source": [
        "params = {\n",
        "    \"su\": su,\n",
        "    \"start\": start,\n",
        "    \"end\": end,\n",
        "    \"url\": url,\n",
        "    \"baseUrl\": baseUrl,\n",
        "    \"service\": service\n",
        "}\n",
        "root = 'devops-pipelines' if os.path.basename(os.getcwd()) != 'devops-pipelines' else ''\n",
        "    "
      ],
      "outputs": [],
      "execution_count": null,
      "metadata": {
        "collapsed": false,
        "inputHidden": false,
        "outputHidden": false
      }
    },
    {
      "cell_type": "code",
      "source": [
        "# todo: use from akn\n",
        "def to_datetime(timestamp):\n",
        "    s = timestamp[:23] + 'Z' # only allow 5 decimals of precision\n",
        "    for f in (\"%Y-%m-%d %H:%M:%S.%fZ\", \"%Y-%m-%dT%H:%M:%S.%fZ\"):\n",
        "        try:\n",
        "            return datetime.strptime(s, f)\n",
        "        except:\n",
        "            pass\n",
        "def get_time(timestamp, d):\n",
        "    return int((cal.timegm(to_datetime(timestamp).timetuple()) + (d * 60)) * 1000)\n",
        "# end todo\n",
        "\n",
        "def getKustoQuery(csl_filename, params):\n",
        "\n",
        "    return tokenize(os.path.join(queryPath, csl_filename), params)\n",
        "\n",
        "queryPath = os.path.join(root, 'queries')\n",
        "\n",
        "states = {\n",
        "    \"ja\": \"ja\",\n",
        "    \"healthagent\": \"healthagent\"\n",
        "};\n",
        "\n",
        "state = \"\";"
      ],
      "outputs": [],
      "execution_count": null,
      "metadata": {
        "collapsed": false,
        "inputHidden": false,
        "outputHidden": false
      }
    },
    {
      "cell_type": "code",
      "source": [
        "%%capture\n",
        "%load_ext Kqlmagic"
      ],
      "outputs": [],
      "execution_count": null,
      "metadata": {
        "collapsed": false,
        "inputHidden": false,
        "outputHidden": false
      }
    },
    {
      "cell_type": "code",
      "source": [
        "# authenticate kusto client\n",
        "# you will need to copy the token into a browser window for AAD auth. \n",
        "client = akn.get_client('https://vso.kusto.windows.net')"
      ],
      "outputs": [],
      "execution_count": null,
      "metadata": {
        "collapsed": false,
        "inputHidden": false,
        "outputHidden": false
      }
    },
    {
      "cell_type": "code",
      "source": [
        "q_slow = os.path.join(queryPath, \"SlowActivities.csl\")\n",
        "q_sqlSlow = os.path.join(queryPath, \"SlowSql.csl\")\n",
        "\n",
        "jaPath = os.path.join(queryPath, 'ja')\n",
        "q_jobSql = os.path.join(jaPath, \"JASqlTime.csl\")\n",
        "with concurrent.futures.ThreadPoolExecutor() as executor:\n",
        "    p1 = executor.submit(akn.execute_file, client, 'VSO', q_slow, params)\n",
        "    p2 = executor.submit(akn.execute_file, client, 'VSO', q_sqlSlow, params)\n",
        "    p3 = executor.submit(akn.execute_file, client, 'VSO', q_jobSql, params)\n",
        "\n",
        "q_slowResult_df = akn.to_dataframe_from_future(p1)\n",
        "\n",
        "q_sqlSlowResult_df = akn.to_dataframe_from_future(p2)\n",
        "\n",
        "q_jobSqlResult_df = akn.to_dataframe_from_future(p3)    \n"
      ],
      "outputs": [],
      "execution_count": null,
      "metadata": {
        "collapsed": false,
        "outputHidden": false,
        "inputHidden": false
      }
    },
    {
      "cell_type": "code",
      "source": [
        "q_slowResult_df"
      ],
      "outputs": [],
      "execution_count": null,
      "metadata": {
        "collapsed": false,
        "inputHidden": false,
        "outputHidden": false
      }
    },
    {
      "cell_type": "code",
      "source": [
        "q_sqlSlowResult_df"
      ],
      "outputs": [],
      "execution_count": null,
      "metadata": {
        "collapsed": false,
        "inputHidden": false,
        "outputHidden": false
      }
    },
    {
      "cell_type": "code",
      "source": [
        "q_jobSqlResult_df"
      ],
      "outputs": [],
      "execution_count": null,
      "metadata": {
        "collapsed": false,
        "inputHidden": false,
        "outputHidden": false
      }
    }
  ],
  "metadata": {
    "kernel_info": {
      "name": "python3"
    },
    "kernelspec": {
      "name": "python3",
      "language": "python",
      "display_name": "Python 3"
    },
    "language_info": {
      "name": "python",
      "version": "3.7.4",
      "mimetype": "text/x-python",
      "codemirror_mode": {
        "name": "ipython",
        "version": 3
      },
      "pygments_lexer": "ipython3",
      "nbconvert_exporter": "python",
      "file_extension": ".py"
    },
    "nteract": {
      "version": "0.14.5"
    }
  },
  "nbformat": 4,
  "nbformat_minor": 0
}