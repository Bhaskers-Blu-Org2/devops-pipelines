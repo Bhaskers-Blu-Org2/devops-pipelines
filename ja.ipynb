{
  "cells": [
    {
      "cell_type": "code",
      "source": [
        "# These are just defaults will be overwritten if you use https://github.com/yaananth/nimport\n",
        "su=\"tfs-cus-1\"\n",
        "start=\"2019-07-20T16:00:00.0000000Z\"\n",
        "end=\"2019-07-20T16:33:36.0000000Z\"\n",
        "url=\"https://notebooksv2.azure.com/yaananth/projects/06OasuNRs6rK/delays.ipynb\"\n",
        "locationName=\"tfsprodcus1\"\n",
        "baseUrl=\"https://notebooksv2.azure.com/yaananth/projects/06OasuNRs6rK\"\n",
        "service=\"tfs\""
      ],
      "outputs": [],
      "execution_count": null,
      "metadata": {
        "collapsed": false,
        "outputHidden": false,
        "inputHidden": false,
        "tags": [
          "parameters"
        ]
      }
    },
    {
      "cell_type": "code",
      "source": [
        "# Import the things we use\n",
        "\n",
        "# Note you can also use kql https://docs.microsoft.com/en-us/azure/data-explorer/kqlmagic\n",
        "# %kql is single line magic\n",
        "# %%kql is cell magic\n",
        "\n",
        "# https://nbviewer.jupyter.org/github/ipython/ipython/blob/4.0.x/examples/IPython%20Kernel/Rich%20Output.ipynb#HTML\n",
        "# https://ipython.readthedocs.io/en/stable/interactive/magics.html\n",
        "from IPython.display import display, HTML, Markdown, Javascript, clear_output\n",
        "\n",
        "# http://pandas-docs.github.io/pandas-docs-travis/user_guide/reshaping.html\n",
        "import pandas as pd\n",
        "\n",
        "from pandas import Series, DataFrame\n",
        "\n",
        "from datetime import datetime, timedelta, timezone\n",
        "\n",
        "from urllib.parse import urlencode, quote_plus\n",
        "\n",
        "from requests.utils import requote_uri\n",
        "\n",
        "import time\n",
        "\n",
        "import numpy as np\n",
        "\n",
        "from matplotlib import pyplot as plt\n",
        "\n",
        "from nimport.utils import tokenize\n",
        "\n",
        "import json\n",
        "import os"
      ],
      "outputs": [],
      "execution_count": null,
      "metadata": {
        "collapsed": false,
        "outputHidden": false,
        "inputHidden": false
      }
    },
    {
      "cell_type": "code",
      "source": [
        "params = {\n",
        "    \"su\": su,\n",
        "    \"start\": start,\n",
        "    \"end\": end,\n",
        "    \"url\": url,\n",
        "    \"baseUrl\": baseUrl,\n",
        "    \"service\": service\n",
        "}\n",
        "root = 'azuredevops-ja' if os.path.basename(os.getcwd()) != 'azuredevops-ja' else ''\n",
        "    "
      ],
      "outputs": [],
      "execution_count": null,
      "metadata": {
        "collapsed": false,
        "outputHidden": false,
        "inputHidden": false
      }
    },
    {
      "cell_type": "code",
      "source": [
        "# This isn't needed if you are bootstraping\n",
        "#!pip install Kqlmagic --no-cache-dir --upgrade\n",
        "#!pip install nimport --no-cache-dir --upgrade"
      ],
      "outputs": [],
      "execution_count": null,
      "metadata": {
        "collapsed": false,
        "outputHidden": false,
        "inputHidden": false
      }
    },
    {
      "cell_type": "code",
      "source": [
        "# kusto/python utilities\n",
        "def getTime(timestamp, d):\n",
        "    return int((time.mktime(getDateTime(timestamp).timetuple()) + (d * 60)) * 1000);\n",
        "                \n",
        "def getDateTime(timestamp):\n",
        "    s = timestamp[:23] + 'Z' # only allow 5 decimals of precision\n",
        "    for f in (\"%Y-%m-%d %H:%M:%S.%fZ\", \"%Y-%m-%dT%H:%M:%S.%fZ\"):\n",
        "        try:\n",
        "            return datetime.strptime(s, f);\n",
        "        except:\n",
        "            pass\n",
        "           \n",
        "def getKustoQuery(csl_filename, params):\n",
        "\n",
        "    return tokenize(os.path.join(root, 'queries', csl_filename), params)\n",
        "                \n",
        "states = {\n",
        "    \"ja\": \"ja\",\n",
        "    \"healthagent\": \"healthagent\"\n",
        "};\n",
        "\n",
        "state = \"\";"
      ],
      "outputs": [],
      "execution_count": null,
      "metadata": {
        "collapsed": false,
        "outputHidden": false,
        "inputHidden": false
      }
    },
    {
      "cell_type": "code",
      "source": [
        "%load_ext Kqlmagic"
      ],
      "outputs": [],
      "execution_count": null,
      "metadata": {
        "collapsed": false,
        "outputHidden": false,
        "inputHidden": false
      }
    },
    {
      "cell_type": "code",
      "source": [
        "%kql AzureDataExplorer://tenant=\"Microsoft.com\";code;cluster='VSO';database='VSO'"
      ],
      "outputs": [],
      "execution_count": null,
      "metadata": {
        "collapsed": false,
        "outputHidden": false,
        "inputHidden": false
      }
    },
    {
      "cell_type": "code",
      "source": [
        "q_slow = getKustoQuery(\"SlowActivities.csl\", params)\n",
        "q_slowResult = %kql -query q_slow"
      ],
      "outputs": [],
      "execution_count": null,
      "metadata": {
        "collapsed": false,
        "outputHidden": false,
        "inputHidden": false
      }
    },
    {
      "cell_type": "code",
      "source": [
        "q_sqlSlow = getKustoQuery(\"SlowSql.csl\", params)\n",
        "q_sqlSlowResult = %kql -query q_sqlSlow"
      ],
      "outputs": [],
      "execution_count": null,
      "metadata": {
        "collapsed": false,
        "outputHidden": false,
        "inputHidden": false
      }
    },
    {
      "cell_type": "code",
      "source": [
        "q_jobSql = getKustoQuery(\"JASqlTime.csl\", params)\n",
        "q_jobSqlResult = %kql -query q_jobSql "
      ],
      "outputs": [],
      "execution_count": null,
      "metadata": {
        "collapsed": false,
        "outputHidden": false,
        "inputHidden": false
      }
    },
    {
      "cell_type": "code",
      "source": [
        "q_slowResult"
      ],
      "outputs": [],
      "execution_count": null,
      "metadata": {
        "collapsed": false,
        "outputHidden": false,
        "inputHidden": false
      }
    },
    {
      "cell_type": "code",
      "source": [
        "q_sqlSlowResult"
      ],
      "outputs": [],
      "execution_count": null,
      "metadata": {
        "collapsed": false,
        "outputHidden": false,
        "inputHidden": false
      }
    },
    {
      "cell_type": "code",
      "source": [
        "q_jobSqlResult"
      ],
      "outputs": [],
      "execution_count": null,
      "metadata": {
        "collapsed": false,
        "outputHidden": false,
        "inputHidden": false
      }
    }
  ],
  "metadata": {
    "kernel_info": {
      "name": "python3"
    },
    "language_info": {
      "name": "python",
      "version": "3.7.4",
      "mimetype": "text/x-python",
      "codemirror_mode": {
        "name": "ipython",
        "version": 3
      },
      "pygments_lexer": "ipython3",
      "nbconvert_exporter": "python",
      "file_extension": ".py"
    },
    "kernelspec": {
      "name": "python3",
      "language": "python",
      "display_name": "Python 3"
    },
    "nteract": {
      "version": "0.14.4"
    }
  },
  "nbformat": 4,
  "nbformat_minor": 0
}