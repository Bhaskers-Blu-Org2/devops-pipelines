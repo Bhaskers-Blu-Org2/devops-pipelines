{
  "cells": [
    {
      "cell_type": "code",
      "source": [
        "su = \"tfs-cus-1\"\n",
        "start = \"2019-07-20T16:00:00.0000000Z\"\n",
        "end = \"2019-07-20T16:33:36.0000000Z\"\n",
        "url = \"https://notebooksv2.azure.com/yaananth/projects/06OasuNRs6rK/delays.ipynb\"\n",
        "baseUrl = \"https://notebooksv2.azure.com/yaananth/projects/06OasuNRs6rK\"\n",
        "locationName = \"tfsprodcus1\"\n",
        "service = \"tfs\"\n",
        "hub = \"Build\""
      ],
      "outputs": [],
      "execution_count": null,
      "metadata": {
        "collapsed": false,
        "inputHidden": false,
        "outputHidden": false,
        "tags": [
          "parameters"
        ]
      }
    },
    {
      "cell_type": "code",
      "source": [
        "# This isn't needed if you are bootstraping\n",
        "#!pip install Kqlmagic --no-cache-dir --upgrade\n",
        "!pip install nimport --no-cache-dir --upgrade\n",
        "%load_ext nimport"
      ],
      "outputs": [],
      "execution_count": null,
      "metadata": {
        "collapsed": false,
        "inputHidden": false,
        "outputHidden": false
      }
    },
    {
      "cell_type": "code",
      "source": [
        "params = {\n",
        "    \"su\": su,\n",
        "    \"start\": start,\n",
        "    \"end\": end,\n",
        "    \"url\": url,\n",
        "    \"baseUrl\": baseUrl,\n",
        "    \"locationName\": locationName,\n",
        "    \"service\": service,\n",
        "    \"hub\": hub\n",
        "}"
      ],
      "outputs": [],
      "execution_count": null,
      "metadata": {
        "collapsed": false,
        "inputHidden": false,
        "outputHidden": false
      }
    },
    {
      "cell_type": "code",
      "source": [
        "# Let's clone our repo\n",
        "%nimport container=\"yaananth/azuredevops-ja\" path=\"ja.ipynb\" provider=\"github\" providerOptions={\"clone\":\"true\"}"
      ],
      "outputs": [],
      "execution_count": null,
      "metadata": {
        "collapsed": false,
        "inputHidden": false,
        "outputHidden": false
      }
    },
    {
      "cell_type": "code",
      "source": [
        "from nimport.utils import open_nb, redirectTo\n",
        "open_nb(\"azuredevops-ja/ja.ipynb\", params, redirect=False)\n",
        "redirectTo(\"azuredevops-ja/ja.ipynb\", baseUrl)"
      ],
      "outputs": [],
      "execution_count": null,
      "metadata": {
        "collapsed": false,
        "inputHidden": false,
        "outputHidden": false
      }
    }
  ],
  "metadata": {
    "kernel_info": {
      "name": "python3"
    },
    "kernelspec": {
      "name": "python3",
      "language": "python",
      "display_name": "Python 3"
    },
    "language_info": {
      "name": "python",
      "version": "3.7.4",
      "mimetype": "text/x-python",
      "codemirror_mode": {
        "name": "ipython",
        "version": 3
      },
      "pygments_lexer": "ipython3",
      "nbconvert_exporter": "python",
      "file_extension": ".py"
    },
    "nteract": {
      "version": "0.14.4"
    }
  },
  "nbformat": 4,
  "nbformat_minor": 0
}