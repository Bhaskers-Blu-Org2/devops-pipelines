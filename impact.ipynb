{
  "cells": [
    {
      "cell_type": "markdown",
      "source": [
        "# Impact Investigation\n",
        "1. Run all cells.\n",
        "1. View report at the bottom."
      ],
      "metadata": {}
    },
    {
      "cell_type": "code",
      "source": [
        "# These are just defaults will be overwritten if you use https://github.com/yaananth/nimport\n",
        "su=\"tfs-weu-3\"\n",
        "start=\"2019-07-16T13:30:00.0000000Z\"\n",
        "end=\"2019-07-16T13:44:00.0000000Z\"\n",
        "url=\"https://notebooksv2.azure.com/yaananth/projects/06OasuNRs6rK/delays.ipynb\"\n",
        "baseUrl=\"https://notebooksv2.azure.com/yaananth/projects/06OasuNRs6rK\"\n",
        "service=\"tfs\""
      ],
      "outputs": [],
      "execution_count": null,
      "metadata": {
        "collapsed": false,
        "outputHidden": false,
        "inputHidden": false,
        "tags": [
          "parameters"
        ]
      }
    },
    {
      "cell_type": "code",
      "source": [
        "# Import the things we use\n",
        "\n",
        "# Note you can also use kql https://docs.microsoft.com/en-us/azure/data-explorer/kqlmagic\n",
        "# %kql is single line magic\n",
        "# %%kql is cell magic\n",
        "\n",
        "# https://nbviewer.jupyter.org/github/ipython/ipython/blob/4.0.x/examples/IPython%20Kernel/Rich%20Output.ipynb#HTML\n",
        "# https://ipython.readthedocs.io/en/stable/inte/magics.html\n",
        "from IPython.display import display, HTML, Markdown, Javascript, clear_output\n",
        "\n",
        "# http://pandas-docs.github.io/pandas-docs-travis/user_guide/reshaping.html\n",
        "import pandas as pd\n",
        "from pandas import Series, DataFrame\n",
        "from datetime import datetime, timedelta, timezone\n",
        "from urllib.parse import urlencode, quote_plus\n",
        "from requests.utils import requote_uri\n",
        "import time\n",
        "import numpy as np\n",
        "from matplotlib import pyplot as plt\n",
        "from nimport.utils import tokenize\n",
        "import json\n",
        "import os\n",
        "import calendar as cal"
      ],
      "outputs": [],
      "execution_count": null,
      "metadata": {
        "collapsed": false,
        "outputHidden": false,
        "inputHidden": false
      }
    },
    {
      "cell_type": "code",
      "source": [
        "params = {\n",
        "    \"su\": su,\n",
        "    \"start\": start,\n",
        "    \"end\": end,\n",
        "    \"url\": url,\n",
        "    \"baseUrl\": baseUrl,\n",
        "    \"service\": service\n",
        "}\n",
        "root = 'devops-pipelines' if os.path.basename(os.getcwd()) != 'devops-pipelines' else ''\n",
        "    "
      ],
      "outputs": [],
      "execution_count": null,
      "metadata": {
        "collapsed": false,
        "outputHidden": false,
        "inputHidden": false
      }
    },
    {
      "cell_type": "code",
      "source": [
        "# This isn't needed if you are bootstraping\n",
        "#!pip install Kqlmagic --no-cache-dir --upgrade\n",
        "#!pip install nimport --no-cache-dir --upgrade"
      ],
      "outputs": [],
      "execution_count": null,
      "metadata": {
        "collapsed": false,
        "outputHidden": false,
        "inputHidden": false
      }
    },
    {
      "cell_type": "code",
      "source": [
        "# kusto/python utilities\n",
        "def getTime(timestamp, d):\n",
        "    return int((cal.timegm(getDateTime(timestamp).timetuple()) + (d * 60)) * 1000);\n",
        "                \n",
        "def getDateTime(timestamp):\n",
        "    s = timestamp[:23] + 'Z' # only allow 5 decimals of precision\n",
        "    for f in (\"%Y-%m-%d %H:%M:%S.%fZ\", \"%Y-%m-%dT%H:%M:%S.%fZ\"):\n",
        "        try:\n",
        "            return datetime.strptime(s, f);\n",
        "        except:\n",
        "            pass\n",
        "           \n",
        "def getKustoQuery(csl_filename, params):\n",
        "    return tokenize(os.path.join(root, 'queries', csl_filename), params)\n",
        "                \n",
        "states = {\n",
        "    \"ja\": \"ja\",\n",
        "    \"healthagent\": \"healthagent\"\n",
        "};\n",
        "\n",
        "state = \"\";"
      ],
      "outputs": [],
      "execution_count": null,
      "metadata": {
        "collapsed": false,
        "outputHidden": false,
        "inputHidden": false
      }
    },
    {
      "cell_type": "code",
      "source": [
        "%load_ext Kqlmagic"
      ],
      "outputs": [],
      "execution_count": null,
      "metadata": {
        "collapsed": false,
        "outputHidden": false,
        "inputHidden": false
      }
    },
    {
      "cell_type": "code",
      "source": [
        "# Active incidents?\n",
        "# ActiveIncidents.csl\n",
        "%kql AzureDataExplorer://tenant=\"Microsoft.com\";code;cluster='Icmcluster';database='IcMDataWarehouse' \n",
        "q_activeIncidents = getKustoQuery(\"ActiveIncidents.csl\", params)\n",
        "q_activeIncidentsResult = %kql -query q_activeIncidents\n",
        "q_activeIncidentsResultDf = q_activeIncidentsResult.to_dataframe()"
      ],
      "outputs": [],
      "execution_count": null,
      "metadata": {
        "collapsed": false,
        "outputHidden": false,
        "inputHidden": false
      }
    },
    {
      "cell_type": "code",
      "source": [
        "# Note: KQL has a bug where it copies the wrong code (the previous cluster's auth code instead of current) when we try to auth to multiple clusters\n",
        "# Copy the code manually instead, if you already closed the dialog, copy code and go to https://microsoft.com/devicelogin\n",
        "%kql AzureDataExplorer://tenant=\"Microsoft.com\";code;cluster='VSO';database='VSO'"
      ],
      "outputs": [],
      "execution_count": null,
      "metadata": {
        "collapsed": false,
        "outputHidden": false,
        "inputHidden": false
      }
    },
    {
      "cell_type": "code",
      "source": [
        "# LocationName.csl\n",
        "q_loc = getKustoQuery(\"LocationName.csl\", params)\n",
        "locationNameResult = %kql -query q_loc\n",
        "locationName = locationNameResult[0]['Tenant']\n",
        "params[\"locationName\"] = locationName"
      ],
      "outputs": [],
      "execution_count": null,
      "metadata": {
        "collapsed": false,
        "outputHidden": false,
        "inputHidden": false
      }
    },
    {
      "cell_type": "code",
      "source": [
        "# WhatChanged.csl\n",
        "q_whatChanged = getKustoQuery(\"WhatChanged.csl\", params)\n",
        "q_whatChanged_r = %kql -query q_whatChanged\n",
        "q_whatChanged_df = q_whatChanged_r.to_dataframe();"
      ],
      "outputs": [],
      "execution_count": null,
      "metadata": {
        "collapsed": false,
        "outputHidden": false,
        "inputHidden": false
      }
    },
    {
      "cell_type": "code",
      "source": [
        "# CommandsReason.csl\n",
        "q_commands = getKustoQuery(\"impact/CommandsReason.csl\", params)\n",
        "q_commands_r = %kql -query q_commands\n",
        "q_commands_df = q_commands_r.to_dataframe();"
      ],
      "outputs": [],
      "execution_count": null,
      "metadata": {
        "collapsed": false,
        "outputHidden": false,
        "inputHidden": false
      }
    },
    {
      "cell_type": "code",
      "source": [
        "# CommandsAT.csl\n",
        "q_commandsAT = getKustoQuery(\"impact/CommandsAT.csl\", params)\n",
        "q_commandsAT_r = %kql -query q_commandsAT\n",
        "q_commandsAT_df = q_commandsAT_r.to_dataframe();"
      ],
      "outputs": [],
      "execution_count": null,
      "metadata": {
        "collapsed": false,
        "outputHidden": false,
        "inputHidden": false
      }
    },
    {
      "cell_type": "code",
      "source": [
        "# CommandsDb.csl\n",
        "q_commandsDb = getKustoQuery(\"impact/CommandsDb.csl\", params)\n",
        "q_commandsDb_r = %kql -query q_commandsDb\n",
        "q_commandsDb_df = q_commandsDb_r.to_dataframe();"
      ],
      "outputs": [],
      "execution_count": null,
      "metadata": {
        "collapsed": false,
        "outputHidden": false,
        "inputHidden": false
      }
    },
    {
      "cell_type": "code",
      "source": [
        "print('=' * 50)\n",
        "print('Report!')\n",
        "print('=' * 50, '\\n\\n')\n",
        "\n",
        "jarvisParams = {'su': su, 'start': getTime(start, -10), 'end': getTime(end, 10), 'service': service }\n",
        "\n",
        "# jarvis\n",
        "jarvisLink = \"\"\"https://jarvis-west.dc.ad.msft.net/dashboard/VSO-ServiceInsights/DevOpsReports/TFS DevOpsReports\"\"\" \\\n",
        "    \"\"\"?overrides=[{\"query\":\"//*[id='Service']\",\"key\":\"value\",\"replacement\":\"%(service)s\"},\"\"\" \\\n",
        "    \"\"\"{\"query\":\"//*[id='RoleInstance']\",\"key\":\"value\",\"replacement\":\"\"},\"\"\" \\\n",
        "    \"\"\"{\"query\":\"//*[id='ScaleUnit']\",\"key\":\"value\",\"replacement\":\"%(su)s\"}]\"\"\" \\\n",
        "    \"\"\"&globalStartTime=%(start)s&globalEndTime=%(end)s&pinGlobalTimeRange=true\"\"\" % jarvisParams;\n",
        "print('Jarvis dashboard link:\\n', requote_uri(jarvisLink), '\\n')\n",
        "\n",
        "# slow failed reason analysis\n",
        "print()\n",
        "print('Is it slow commands or failed commands? =============================')\n",
        "freq = q_commands_df[\"Frequency\"]\n",
        "coefficientOfVariance = freq.std()/freq.mean()\n",
        "failedCount = q_commands_df[q_commands_df[\"Reason\"] == \"failed\"][\"Frequency\"].values[0]\n",
        "slowCount = q_commands_df[q_commands_df[\"Reason\"] == \"slow\"][\"Frequency\"].values[0]\n",
        "reason = \"failed or slow\"\n",
        "if coefficientOfVariance > 0.5:\n",
        "    if failedCount > slowCount:\n",
        "        reason = \"failed\"\n",
        "    else:\n",
        "        reason = \"slow\"\n",
        "else:\n",
        "    print(\"Slow and failed commands are too close, both might be contributing...\")\n",
        "if reason:\n",
        "    print(\"Probably due to %s commands; Failed - %s, Slow - %s\" % (reason, failedCount, slowCount))\n",
        "\n",
        "# slow failed reason for AT?\n",
        "print()\n",
        "print('Is it %s because of AT? =============================' % (reason))\n",
        "failed = q_commandsAT_df[q_commandsAT_df[\"Reason\"] == \"failed\"]\n",
        "slow = q_commandsAT_df[q_commandsAT_df[\"Reason\"] == \"slow\"]\n",
        "data = q_commandsAT_df\n",
        "if reason == \"failed\":\n",
        "    data = failed\n",
        "elif reason == \"slow\":\n",
        "    data = slow\n",
        "\n",
        "coefficientOfVariance = data[\"Frequency\"].std()/data[\"Frequency\"].mean()\n",
        "    \n",
        "if coefficientOfVariance > 0.5:\n",
        "    print(\"Found variance in AT's for %s commands\" % (reason))\n",
        "    print(data.head(30))\n",
        "else:\n",
        "    print(\"Seems be same across AT's for %s commands\" % (reason))\n",
        "    \n",
        "# slow failed reason for Db?\n",
        "print()\n",
        "print('Is it %s because of Db? =============================' % (reason))\n",
        "failed = q_commandsDb_df[q_commandsDb_df[\"Reason\"] == \"failed\"]\n",
        "slow = q_commandsDb_df[q_commandsDb_df[\"Reason\"] == \"slow\"]\n",
        "data = q_commandsDb_df\n",
        "if reason == \"failed\":\n",
        "    data = failed\n",
        "elif reason == \"slow\":\n",
        "    data = slow\n",
        "\n",
        "coefficientOfVariance = data[\"Frequency\"].std()/data[\"Frequency\"].mean()\n",
        "    \n",
        "if coefficientOfVariance > 0.5:\n",
        "    print(\"Found variance in Db's for %s commands\" % (reason))\n",
        "    print(\"Suffix '%s' to database server name\" % (\".database.windows.net\"))\n",
        "    print(\"Prefix '%s' to database name\" % (params[\"service\"] + \"_\" + params[\"locationName\"] + \"_\"))\n",
        "    print(data.head(30))\n",
        "else:\n",
        "    print(\"Seems be same across Db's for %s commands\" % (reason))    \n",
        "    \n",
        "# what changed? analysis\n",
        "print()\n",
        "print('What changed? =============================')\n",
        "if(len(q_whatChanged_df.index) == 0):\n",
        "    print(\"No relevant changes found...\")\n",
        "else:\n",
        "    up_prefix = \"\";\n",
        "    mit_prefix = \"\";\n",
        "    text = \"\";\n",
        "    for index, row in q_whatChanged_df.iterrows():\n",
        "        if(row.title.lower().find('upgrade') != -1):\n",
        "            if not up_prefix:\n",
        "                up_prefix += \"Looks like, there's upgrade in progress...\\n\";\n",
        "            text += \"\"\"%s %s %s \\n\"\"\" % (row.TIMESTAMP, row.title, row.buildNumber);\n",
        "        if(row.title.lower().find('mitigation') != -1):\n",
        "            if not mit_prefix:\n",
        "                mit_prefix += \"Looks like, there are some mitigations by health agent...\\n\";\n",
        "                state += states[\"healthagent\"];\n",
        "            text += \"\"\"%s %s %s\"\"\" % (row.TIMESTAMP, row.title, row.buildNumber);\n",
        "            \n",
        "    if text:\n",
        "        print(up_prefix + mit_prefix + text)\n",
        "    else:\n",
        "        print(q_whatChanged_df)\n",
        "        \n",
        "# active incidents?\n",
        "print()\n",
        "print('Active incidents? =============================')\n",
        "otherIncidentsCount = 0;\n",
        "for index, row in q_activeIncidentsResultDf.iterrows():\n",
        "    if(row.Title.find(\"TFS Customer Impact Monitor\") == -1):\n",
        "        otherIncidentsCount+=1;\n",
        "        \n",
        "if(otherIncidentsCount > 0):\n",
        "    print(\"We found some incidents during the time period, check if they are related...\")\n",
        "    # styling\n",
        "    def make_clickable(url, text):\n",
        "        return '{0}'.format(url)\n",
        "\n",
        "    newDf = q_activeIncidentsResultDf.assign(URL=[*map(lambda x: make_clickable(\"\"\"https://icm.ad.msft.net/imp/v3/incidents/details/%s/home\"\"\" % (x), \"ICMLink\"), q_activeIncidentsResultDf.IncidentId)])\n",
        "    print(\"ICM link to copy - \" + \"https://icm.ad.msft.net/imp/v3/incidents/details/INCIDENTID/home\")\n",
        "    print(newDf[['IncidentId','Severity','Title']])\n",
        "else:\n",
        "    print(\"No active incidents that could be related are found...\")        "
      ],
      "outputs": [],
      "execution_count": null,
      "metadata": {
        "collapsed": false,
        "outputHidden": false,
        "inputHidden": false
      }
    }
  ],
  "metadata": {
    "kernel_info": {
      "name": "python3"
    },
    "language_info": {
      "name": "python",
      "version": "3.7.4",
      "mimetype": "text/x-python",
      "codemirror_mode": {
        "name": "ipython",
        "version": 3
      },
      "pygments_lexer": "ipython3",
      "nbconvert_exporter": "python",
      "file_extension": ".py"
    },
    "kernelspec": {
      "name": "python3",
      "language": "python",
      "display_name": "Python 3"
    },
    "nteract": {
      "version": "0.14.4"
    }
  },
  "nbformat": 4,
  "nbformat_minor": 0
}